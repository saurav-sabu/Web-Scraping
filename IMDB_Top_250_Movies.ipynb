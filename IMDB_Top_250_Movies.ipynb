{
 "cells": [
  {
   "cell_type": "markdown",
   "metadata": {},
   "source": [
    "### Import necessary libraries"
   ]
  },
  {
   "cell_type": "code",
   "execution_count": 1,
   "metadata": {},
   "outputs": [],
   "source": [
    "import pandas as pd # Import the Pandas library and alias it as 'pd'\n",
    "import requests # Import the 'requests' library for making HTTP requests\n",
    "\n",
    "from bs4 import BeautifulSoup # Import the BeautifulSoup class from the 'bs4' (Beautiful Soup 4) library"
   ]
  },
  {
   "cell_type": "code",
   "execution_count": 2,
   "metadata": {},
   "outputs": [],
   "source": [
    "# Define a User-Agent string in the 'headers' dictionary\n",
    "# This User-Agent string simulates a web browser (Google Chrome on Windows)\n",
    "headers = {\"User-Agent\":\"Mozilla/5.0 (Windows NT 10.0; Win64; x64) AppleWebKit/537.36 (KHTML, like Gecko) Chrome/116.0.0.0 Safari/537.36\"}"
   ]
  },
  {
   "cell_type": "code",
   "execution_count": 3,
   "metadata": {},
   "outputs": [],
   "source": [
    "# Define a URL pointing to the IMDb Top 250 Movies chart\n",
    "url = '''https://www.imdb.com/chart/top/'''"
   ]
  },
  {
   "cell_type": "code",
   "execution_count": 4,
   "metadata": {},
   "outputs": [
    {
     "data": {
      "text/plain": [
       "<Response [200]>"
      ]
     },
     "execution_count": 4,
     "metadata": {},
     "output_type": "execute_result"
    }
   ],
   "source": [
    "# Send an HTTP GET request to the specified URL using the 'requests' library\n",
    "# Include the 'headers' dictionary to mimic a web browser user agent \n",
    "response = requests.get(url,headers=headers)\n",
    "\n",
    "# 'response' now contains the HTTP response received from the website\n",
    "response"
   ]
  },
  {
   "cell_type": "code",
   "execution_count": 5,
   "metadata": {},
   "outputs": [],
   "source": [
    "# Create a BeautifulSoup object by parsing the HTML content of the HTTP response\n",
    "soup = BeautifulSoup(response.content,\"html.parser\")"
   ]
  },
  {
   "cell_type": "code",
   "execution_count": 6,
   "metadata": {},
   "outputs": [],
   "source": [
    "# Create empty lists to store movie names, release years, duration, ratings, and the number of reviews\n",
    "movie_name = []        # To store movie names\n",
    "release_year = []      # To store release years\n",
    "duration_of_movie = [] # To store movie durations\n",
    "rating = []            # To store movie ratings\n",
    "num_of_likes = []    # To store the number of likes for each movie"
   ]
  },
  {
   "cell_type": "code",
   "execution_count": 7,
   "metadata": {},
   "outputs": [
    {
     "data": {
      "text/plain": [
       "[<div class=\"sc-6fa21551-0 hyRLjF cli-children\"><div class=\"ipc-title ipc-title--base ipc-title--title ipc-title-link-no-icon ipc-title--on-textPrimary sc-6fa21551-9 dKJKsK cli-title\"><a class=\"ipc-title-link-wrapper\" href=\"/title/tt0111161/?ref_=chttp_t_1\" tabindex=\"0\"><h3 class=\"ipc-title__text\">1. The Shawshank Redemption</h3></a></div><div class=\"sc-6fa21551-7 jLjTzn cli-title-metadata\"><span class=\"sc-6fa21551-8 bnyjtW cli-title-metadata-item\">1994</span><span class=\"sc-6fa21551-8 bnyjtW cli-title-metadata-item\">2h 22m</span><span class=\"sc-6fa21551-8 bnyjtW cli-title-metadata-item\">A</span></div><span class=\"sc-6fa21551-1 GNFYN\"><div class=\"sc-e3e7b191-0 iKUUVe sc-6fa21551-2 kOfhdG cli-ratings-container\" data-testid=\"ratingGroup--container\"><span aria-label=\"IMDb rating: 9.3\" class=\"ipc-rating-star ipc-rating-star--base ipc-rating-star--imdb ratingGroup--imdb-rating\"><svg class=\"ipc-icon ipc-icon--star-inline\" fill=\"currentColor\" height=\"24\" role=\"presentation\" viewbox=\"0 0 24 24\" width=\"24\" xmlns=\"http://www.w3.org/2000/svg\"><path d=\"M12 20.1l5.82 3.682c1.066.675 2.37-.322 2.09-1.584l-1.543-6.926 5.146-4.667c.94-.85.435-2.465-.799-2.567l-6.773-.602L13.29.89a1.38 1.38 0 0 0-2.581 0l-2.65 6.53-6.774.602C.052 8.126-.453 9.74.486 10.59l5.147 4.666-1.542 6.926c-.28 1.262 1.023 2.26 2.09 1.585L12 20.099z\"></path></svg>9.3<span class=\"ipc-rating-star--voteCount\"> (<!-- -->2.8M<!-- -->)</span></span><button aria-label=\"Rate The Shawshank Redemption\" class=\"ipc-rate-button sc-e3e7b191-1 hmiIwN ratingGroup--user-rating ipc-rate-button--unrated ipc-rate-button--base\" data-testid=\"rate-button\"><span class=\"ipc-rating-star ipc-rating-star--base ipc-rating-star--rate\"><svg class=\"ipc-icon ipc-icon--star-border-inline\" fill=\"currentColor\" height=\"24\" role=\"presentation\" viewbox=\"0 0 24 24\" width=\"24\" xmlns=\"http://www.w3.org/2000/svg\"><path d=\"M22.724 8.217l-6.786-.587-2.65-6.22c-.477-1.133-2.103-1.133-2.58 0l-2.65 6.234-6.772.573c-1.234.098-1.739 1.636-.8 2.446l5.146 4.446-1.542 6.598c-.28 1.202 1.023 2.153 2.09 1.51l5.818-3.495 5.819 3.509c1.065.643 2.37-.308 2.089-1.51l-1.542-6.612 5.145-4.446c.94-.81.45-2.348-.785-2.446zm-10.726 8.89l-5.272 3.174 1.402-5.983-4.655-4.026 6.141-.531 2.384-5.634 2.398 5.648 6.14.531-4.654 4.026 1.402 5.983-5.286-3.187z\"></path></svg><span class=\"ipc-rating-star--rate\">Rate</span></span></button></div></span></div>,\n",
       " <div class=\"sc-6fa21551-0 hyRLjF cli-children\"><div class=\"ipc-title ipc-title--base ipc-title--title ipc-title-link-no-icon ipc-title--on-textPrimary sc-6fa21551-9 dKJKsK cli-title\"><a class=\"ipc-title-link-wrapper\" href=\"/title/tt0068646/?ref_=chttp_t_2\" tabindex=\"0\"><h3 class=\"ipc-title__text\">2. The Godfather</h3></a></div><div class=\"sc-6fa21551-7 jLjTzn cli-title-metadata\"><span class=\"sc-6fa21551-8 bnyjtW cli-title-metadata-item\">1972</span><span class=\"sc-6fa21551-8 bnyjtW cli-title-metadata-item\">2h 55m</span><span class=\"sc-6fa21551-8 bnyjtW cli-title-metadata-item\">A</span></div><span class=\"sc-6fa21551-1 GNFYN\"><div class=\"sc-e3e7b191-0 iKUUVe sc-6fa21551-2 kOfhdG cli-ratings-container\" data-testid=\"ratingGroup--container\"><span aria-label=\"IMDb rating: 9.2\" class=\"ipc-rating-star ipc-rating-star--base ipc-rating-star--imdb ratingGroup--imdb-rating\"><svg class=\"ipc-icon ipc-icon--star-inline\" fill=\"currentColor\" height=\"24\" role=\"presentation\" viewbox=\"0 0 24 24\" width=\"24\" xmlns=\"http://www.w3.org/2000/svg\"><path d=\"M12 20.1l5.82 3.682c1.066.675 2.37-.322 2.09-1.584l-1.543-6.926 5.146-4.667c.94-.85.435-2.465-.799-2.567l-6.773-.602L13.29.89a1.38 1.38 0 0 0-2.581 0l-2.65 6.53-6.774.602C.052 8.126-.453 9.74.486 10.59l5.147 4.666-1.542 6.926c-.28 1.262 1.023 2.26 2.09 1.585L12 20.099z\"></path></svg>9.2<span class=\"ipc-rating-star--voteCount\"> (<!-- -->2M<!-- -->)</span></span><button aria-label=\"Rate The Godfather\" class=\"ipc-rate-button sc-e3e7b191-1 hmiIwN ratingGroup--user-rating ipc-rate-button--unrated ipc-rate-button--base\" data-testid=\"rate-button\"><span class=\"ipc-rating-star ipc-rating-star--base ipc-rating-star--rate\"><svg class=\"ipc-icon ipc-icon--star-border-inline\" fill=\"currentColor\" height=\"24\" role=\"presentation\" viewbox=\"0 0 24 24\" width=\"24\" xmlns=\"http://www.w3.org/2000/svg\"><path d=\"M22.724 8.217l-6.786-.587-2.65-6.22c-.477-1.133-2.103-1.133-2.58 0l-2.65 6.234-6.772.573c-1.234.098-1.739 1.636-.8 2.446l5.146 4.446-1.542 6.598c-.28 1.202 1.023 2.153 2.09 1.51l5.818-3.495 5.819 3.509c1.065.643 2.37-.308 2.089-1.51l-1.542-6.612 5.145-4.446c.94-.81.45-2.348-.785-2.446zm-10.726 8.89l-5.272 3.174 1.402-5.983-4.655-4.026 6.141-.531 2.384-5.634 2.398 5.648 6.14.531-4.654 4.026 1.402 5.983-5.286-3.187z\"></path></svg><span class=\"ipc-rating-star--rate\">Rate</span></span></button></div></span></div>]"
      ]
     },
     "execution_count": 7,
     "metadata": {},
     "output_type": "execute_result"
    }
   ],
   "source": [
    "# Use BeautifulSoup's find_all method to locate all elements with the specified class attribute\n",
    "scraped_movie = soup.find_all(\"div\",class_=\"sc-6fa21551-0 hyRLjF cli-children\")\n",
    "\n",
    "# 'scraped_movie' now contains a list of elements that match the criteria\n",
    "scraped_movie[:2]"
   ]
  },
  {
   "cell_type": "code",
   "execution_count": 8,
   "metadata": {},
   "outputs": [],
   "source": [
    "# Iterate through the 'scraped_movie' list and extract the movie names from each element\n",
    "for movie in scraped_movie:\n",
    "    # Extract the movie name from the <h3> tag and append it to the 'movie_name' list\n",
    "    movie_name.append(movie.h3.text)"
   ]
  },
  {
   "cell_type": "code",
   "execution_count": 9,
   "metadata": {},
   "outputs": [
    {
     "data": {
      "text/plain": [
       "['1. The Shawshank Redemption',\n",
       " '2. The Godfather',\n",
       " '3. The Dark Knight',\n",
       " '4. The Godfather: Part II',\n",
       " '5. 12 Angry Men',\n",
       " \"6. Schindler's List\",\n",
       " '7. The Lord of the Rings: The Return of the King',\n",
       " '8. Pulp Fiction',\n",
       " '9. The Lord of the Rings: The Fellowship of the Ring',\n",
       " '10. Il Buono, Il Brutto, Il Cattivo',\n",
       " '11. Forrest Gump',\n",
       " '12. Fight Club',\n",
       " '13. The Lord of the Rings: The Two Towers',\n",
       " '14. Inception',\n",
       " '15. Star Wars: Episode V - The Empire Strikes Back',\n",
       " '16. The Matrix',\n",
       " '17. GoodFellas',\n",
       " \"18. One Flew Over the Cuckoo's Nest\",\n",
       " '19. Se7en',\n",
       " '20. Spider-man: Across the Spider-verse',\n",
       " \"21. It's a Wonderful Life\",\n",
       " '22. Shichinin No Samurai',\n",
       " '23. Interstellar',\n",
       " '24. The Silence of the Lambs',\n",
       " '25. Saving Private Ryan',\n",
       " '26. City of God',\n",
       " '27. Life Is Beautiful',\n",
       " '28. The Green Mile',\n",
       " '29. Star Wars: Episode IV - A New Hope',\n",
       " '30. Terminator 2: Judgment Day',\n",
       " '31. Back to the Future',\n",
       " '32. Spirited Away',\n",
       " '33. The Pianist',\n",
       " '34. Psycho',\n",
       " '35. Parasite',\n",
       " '36. Gladiator',\n",
       " '37. The Lion King',\n",
       " '38. Léon',\n",
       " '39. American History X',\n",
       " '40. The Departed',\n",
       " '41. Whiplash',\n",
       " '42. The Prestige',\n",
       " '43. The Usual Suspects',\n",
       " '44. Oppenheimer',\n",
       " '45. Grave of the Fireflies',\n",
       " '46. Seppuku',\n",
       " '47. Casablanca',\n",
       " '48. Intouchables',\n",
       " '49. Modern Times',\n",
       " '50. Cinema Paradiso',\n",
       " \"51. C'era Una Volta Il West\",\n",
       " '52. Rear Window',\n",
       " '53. Alien',\n",
       " '54. City Lights',\n",
       " '55. Apocalypse Now',\n",
       " '56. Memento',\n",
       " '57. Django Unchained',\n",
       " '58. Raiders of the Lost Ark',\n",
       " '59. WALL·E',\n",
       " '60. Das Leben der Anderen',\n",
       " '61. Sunset Blvd.',\n",
       " '62. Paths of Glory',\n",
       " '63. Avengers: Infinity War',\n",
       " '64. The Shining',\n",
       " '65. The Great Dictator',\n",
       " '66. Witness for the Prosecution',\n",
       " '67. Spider-Man: Into the Spider-Verse',\n",
       " '68. Alien 2',\n",
       " '69. Inglourious Basterds',\n",
       " '70. The Dark Knight Rises',\n",
       " '71. American Beauty',\n",
       " '72. Dr. Strangelove or: How I Learned to Stop Worrying and Love the Bomb',\n",
       " '73. Oldeuboi',\n",
       " '74. Coco',\n",
       " '75. Amadeus',\n",
       " '76. Toy Story',\n",
       " '77. Das Boot',\n",
       " '78. Braveheart',\n",
       " '79. Avengers: Endgame',\n",
       " '80. Joker',\n",
       " '81. Mononoke-hime',\n",
       " '82. Good Will Hunting',\n",
       " '83. Once Upon a Time in America',\n",
       " '84. Kimi No Na Wa.',\n",
       " '85. 3 Idiots',\n",
       " '86. Tengoku to Jigoku',\n",
       " \"87. Singin' in the Rain\",\n",
       " '88. Capharnaüm',\n",
       " '89. Requiem for a Dream',\n",
       " '90. Toy Story 3',\n",
       " '91. Idi I Smotri',\n",
       " '92. Star Wars: Episode VI - Return of the Jedi',\n",
       " '93. Eternal Sunshine of the Spotless Mind',\n",
       " '94. 2001: A Space Odyssey',\n",
       " '95. Jagten',\n",
       " '96. Reservoir Dogs',\n",
       " '97. Ikiru',\n",
       " '98. Lawrence of Arabia',\n",
       " '99. Citizen Kane',\n",
       " '100. M - Eine Stadt sucht einen Mörder',\n",
       " '101. The Apartment',\n",
       " '102. North by Northwest',\n",
       " '103. Vertigo',\n",
       " '104. Double Indemnity',\n",
       " \"105. Le fabuleux destin d'Amélie Poulain\",\n",
       " '106. Scarface',\n",
       " '107. Full Metal Jacket',\n",
       " '108. A Clockwork Orange',\n",
       " '109. Incendies',\n",
       " '110. Heat',\n",
       " '111. Up',\n",
       " '112. Hamilton',\n",
       " '113. To Kill a Mockingbird',\n",
       " '114. The Sting',\n",
       " '115. Jodaeiye Nader Az Simin',\n",
       " '116. Indiana Jones and the Last Crusade',\n",
       " '117. Metropolis',\n",
       " '118. Die Hard',\n",
       " '119. Taare Zameen Par',\n",
       " '120. Snatch',\n",
       " '121. Ladri Di Biciclette',\n",
       " '122. L.A. Confidential',\n",
       " '123. Taxi Driver',\n",
       " '124. 1917',\n",
       " '125. Der Untergang',\n",
       " '126. Dangal',\n",
       " '127. Per qualche dollaro in più',\n",
       " '128. Top Gun: Maverick',\n",
       " '129. Batman Begins',\n",
       " '130. Some Like It Hot',\n",
       " '131. The Kid',\n",
       " '132. The Wolf of Wall Street',\n",
       " '133. The Father',\n",
       " '134. Green Book',\n",
       " '135. All About Eve',\n",
       " '136. Judgment at Nuremberg',\n",
       " '137. The Truman Show',\n",
       " '138. There Will Be Blood',\n",
       " '139. Casino',\n",
       " '140. Ran',\n",
       " '141. Shutter Island',\n",
       " '142. El Laberinto Del Fauno',\n",
       " '143. The Sixth Sense',\n",
       " '144. Unforgiven',\n",
       " '145. Jurassic Park',\n",
       " '146. A Beautiful Mind',\n",
       " '147. The Treasure of the Sierra Madre',\n",
       " '148. Yôjinbô',\n",
       " '149. No Country for Old Men',\n",
       " '150. Kill Bill: Vol. 1',\n",
       " '151. Monty Python and the Holy Grail',\n",
       " '152. The Great Escape',\n",
       " '153. The Thing',\n",
       " '154. Rashōmon',\n",
       " '155. Finding Nemo',\n",
       " '156. The Elephant Man',\n",
       " '157. Chinatown',\n",
       " '158. Hauru No Ugoku Shiro',\n",
       " '159. Dial M for Murder',\n",
       " '160. Gone with the Wind',\n",
       " '161. V for Vendetta',\n",
       " '162. Raging Bull',\n",
       " '163. Spider-Man: No Way Home',\n",
       " '164. Lock, Stock and Two Smoking Barrels',\n",
       " '165. El Secreto De Sus Ojos',\n",
       " '166. Prisoners',\n",
       " '167. Inside Out',\n",
       " '168. Three Billboards Outside Ebbing, Missouri',\n",
       " '169. The Bridge on the River Kwai',\n",
       " '170. Trainspotting',\n",
       " '171. Fargo',\n",
       " '172. Warrior',\n",
       " '173. Gran Torino',\n",
       " '174. Catch Me If You Can',\n",
       " '175. My Neighbour Totoro',\n",
       " '176. Million Dollar Baby',\n",
       " '177. Klaus',\n",
       " '178. Harry Potter and the Deathly Hallows: Part 2',\n",
       " '179. Bacheha-Ye Aseman',\n",
       " '180. Blade Runner',\n",
       " '181. 12 Years a Slave',\n",
       " '182. Before Sunrise',\n",
       " '183. The Grand Budapest Hotel',\n",
       " '184. The Gold Rush',\n",
       " '185. Ben-Hur',\n",
       " '186. Gone Girl',\n",
       " '187. Barry Lyndon',\n",
       " '188. On the Waterfront',\n",
       " '189. Hacksaw Ridge',\n",
       " '190. In the Name of the Father',\n",
       " '191. Salinui Chueok',\n",
       " '192. The General',\n",
       " '193. The Deer Hunter',\n",
       " '194. Smultronstället',\n",
       " '195. Le Salaire De La Peur',\n",
       " '196. The Third Man',\n",
       " '197. Relatos Salvajes',\n",
       " '198. Sherlock Jr.',\n",
       " '199. Dead Poets Society',\n",
       " '200. Mad Max: Fury Road',\n",
       " '201. Mr. Smith Goes to Washington',\n",
       " '202. Monsters, Inc.',\n",
       " '203. How to Train Your Dragon',\n",
       " '204. Jaws',\n",
       " '205. Mary and Max',\n",
       " '206. Det Sjunde Inseglet',\n",
       " '207. Room',\n",
       " '208. Ford v. Ferrari',\n",
       " '209. The Big Lebowski',\n",
       " '210. Tokyo Story',\n",
       " '211. Ratatouille',\n",
       " '212. Rocky',\n",
       " '213. Hotel Rwanda',\n",
       " \"214. La passion de Jeanne d'Arc\",\n",
       " '215. Logan',\n",
       " '216. Spotlight',\n",
       " '217. Platoon',\n",
       " '218. The Terminator',\n",
       " '219. Jai Bhim',\n",
       " '220. Before Sunset',\n",
       " '221. Rush',\n",
       " '222. Network',\n",
       " '223. Stand by Me',\n",
       " '224. The Best Years of Our Lives',\n",
       " '225. The Exorcist',\n",
       " '226. La haine',\n",
       " '227. The Wizard of Oz',\n",
       " '228. Into the Wild',\n",
       " '229. Pirates of the Caribbean: The Curse of the Black Pearl',\n",
       " '230. The Incredibles',\n",
       " '231. To Be or Not to Be',\n",
       " \"232. Hachi: A Dog's Tale\",\n",
       " '233. Ah-ga-ssi',\n",
       " '234. Groundhog Day',\n",
       " '235. La battaglia di Algeri',\n",
       " '236. Babam Ve Oglum',\n",
       " '237. The Grapes of Wrath',\n",
       " '238. Amores perros',\n",
       " '239. Rebecca',\n",
       " '240. Cool Hand Luke',\n",
       " '241. The Sound of Music',\n",
       " '242. Pather Panchali',\n",
       " '243. It Happened One Night',\n",
       " '244. The Iron Giant',\n",
       " '245. The Help',\n",
       " '246. The 400 Blows',\n",
       " '247. Persona',\n",
       " '248. Life of Brian',\n",
       " '249. Aladdin',\n",
       " '250. Drishyam']"
      ]
     },
     "execution_count": 9,
     "metadata": {},
     "output_type": "execute_result"
    }
   ],
   "source": [
    "movie_name"
   ]
  },
  {
   "cell_type": "code",
   "execution_count": 10,
   "metadata": {},
   "outputs": [
    {
     "data": {
      "text/plain": [
       "250"
      ]
     },
     "execution_count": 10,
     "metadata": {},
     "output_type": "execute_result"
    }
   ],
   "source": [
    "# Calculate the number of movie names in the 'movie_name' list\n",
    "len(movie_name)"
   ]
  },
  {
   "cell_type": "code",
   "execution_count": 11,
   "metadata": {},
   "outputs": [
    {
     "data": {
      "text/plain": [
       "[<div class=\"sc-6fa21551-7 jLjTzn cli-title-metadata\"><span class=\"sc-6fa21551-8 bnyjtW cli-title-metadata-item\">1994</span><span class=\"sc-6fa21551-8 bnyjtW cli-title-metadata-item\">2h 22m</span><span class=\"sc-6fa21551-8 bnyjtW cli-title-metadata-item\">A</span></div>,\n",
       " <div class=\"sc-6fa21551-7 jLjTzn cli-title-metadata\"><span class=\"sc-6fa21551-8 bnyjtW cli-title-metadata-item\">1972</span><span class=\"sc-6fa21551-8 bnyjtW cli-title-metadata-item\">2h 55m</span><span class=\"sc-6fa21551-8 bnyjtW cli-title-metadata-item\">A</span></div>]"
      ]
     },
     "execution_count": 11,
     "metadata": {},
     "output_type": "execute_result"
    }
   ],
   "source": [
    "# Use BeautifulSoup's find_all method to locate all elements with the specified class attribute\n",
    "scraped_year_duration = soup.find_all(\"div\",class_=\"sc-6fa21551-7 jLjTzn cli-title-metadata\",)\n",
    "# 'scraped_year_duration' now contains a list of elements that match the criteria\n",
    "scraped_year_duration[:2]"
   ]
  },
  {
   "cell_type": "code",
   "execution_count": 12,
   "metadata": {},
   "outputs": [],
   "source": [
    "# Iterate through the 'scraped_year_duration' list and extract release year and duration for each movie\n",
    "for year in scraped_year_duration:\n",
    "    \n",
    "    # Extract the release year (the first <span> element) and append it to the 'release_year' list\n",
    "    release_year.append(year.find_all(\"span\")[0].text.strip())\n",
    "    # Extract the duration (the second <span> element) and append it to the 'duration_of_movie' list\n",
    "    duration_of_movie.append(year.find_all(\"span\")[1].text.strip())"
   ]
  },
  {
   "cell_type": "code",
   "execution_count": 13,
   "metadata": {},
   "outputs": [
    {
     "data": {
      "text/plain": [
       "250"
      ]
     },
     "execution_count": 13,
     "metadata": {},
     "output_type": "execute_result"
    }
   ],
   "source": [
    "# Calculate the number of movie durations in the 'duration_of_movie' list\n",
    "len(duration_of_movie)"
   ]
  },
  {
   "cell_type": "code",
   "execution_count": 14,
   "metadata": {},
   "outputs": [
    {
     "data": {
      "text/plain": [
       "250"
      ]
     },
     "execution_count": 14,
     "metadata": {},
     "output_type": "execute_result"
    }
   ],
   "source": [
    "# Calculate the number of release years in the 'release_year' list\n",
    "len(release_year)"
   ]
  },
  {
   "cell_type": "code",
   "execution_count": 15,
   "metadata": {},
   "outputs": [
    {
     "data": {
      "text/plain": [
       "[<span aria-label=\"IMDb rating: 9.3\" class=\"ipc-rating-star ipc-rating-star--base ipc-rating-star--imdb ratingGroup--imdb-rating\"><svg class=\"ipc-icon ipc-icon--star-inline\" fill=\"currentColor\" height=\"24\" role=\"presentation\" viewbox=\"0 0 24 24\" width=\"24\" xmlns=\"http://www.w3.org/2000/svg\"><path d=\"M12 20.1l5.82 3.682c1.066.675 2.37-.322 2.09-1.584l-1.543-6.926 5.146-4.667c.94-.85.435-2.465-.799-2.567l-6.773-.602L13.29.89a1.38 1.38 0 0 0-2.581 0l-2.65 6.53-6.774.602C.052 8.126-.453 9.74.486 10.59l5.147 4.666-1.542 6.926c-.28 1.262 1.023 2.26 2.09 1.585L12 20.099z\"></path></svg>9.3<span class=\"ipc-rating-star--voteCount\"> (<!-- -->2.8M<!-- -->)</span></span>,\n",
       " <span aria-label=\"IMDb rating: 9.2\" class=\"ipc-rating-star ipc-rating-star--base ipc-rating-star--imdb ratingGroup--imdb-rating\"><svg class=\"ipc-icon ipc-icon--star-inline\" fill=\"currentColor\" height=\"24\" role=\"presentation\" viewbox=\"0 0 24 24\" width=\"24\" xmlns=\"http://www.w3.org/2000/svg\"><path d=\"M12 20.1l5.82 3.682c1.066.675 2.37-.322 2.09-1.584l-1.543-6.926 5.146-4.667c.94-.85.435-2.465-.799-2.567l-6.773-.602L13.29.89a1.38 1.38 0 0 0-2.581 0l-2.65 6.53-6.774.602C.052 8.126-.453 9.74.486 10.59l5.147 4.666-1.542 6.926c-.28 1.262 1.023 2.26 2.09 1.585L12 20.099z\"></path></svg>9.2<span class=\"ipc-rating-star--voteCount\"> (<!-- -->2M<!-- -->)</span></span>]"
      ]
     },
     "execution_count": 15,
     "metadata": {},
     "output_type": "execute_result"
    }
   ],
   "source": [
    "# Use BeautifulSoup's find_all method to locate all elements with the specified class attribute\n",
    "scraped_rating_reviews = soup.find_all(\"span\",\"ipc-rating-star ipc-rating-star--base ipc-rating-star--imdb ratingGroup--imdb-rating\")\n",
    "\n",
    "# 'scraped_rating_reviews' now contains a list of elements that match the criteria\n",
    "scraped_rating_reviews[:2]"
   ]
  },
  {
   "cell_type": "code",
   "execution_count": 16,
   "metadata": {},
   "outputs": [],
   "source": [
    "# Iterate through the 'scraped_rating_reviews' list and extract the ratings for each movie\n",
    "for rate in scraped_rating_reviews:\n",
    "    # Extract the rating text and append it to the 'rating' list\n",
    "    rating.append(rate.text)"
   ]
  },
  {
   "cell_type": "code",
   "execution_count": 17,
   "metadata": {},
   "outputs": [
    {
     "data": {
      "text/plain": [
       "250"
      ]
     },
     "execution_count": 17,
     "metadata": {},
     "output_type": "execute_result"
    }
   ],
   "source": [
    "# Calculate the number of movie ratings in the 'rating' list\n",
    "len(rating)"
   ]
  },
  {
   "cell_type": "code",
   "execution_count": 18,
   "metadata": {},
   "outputs": [],
   "source": [
    "# Create a Pandas DataFrame using the lists containing movie data\n",
    "df = pd.DataFrame({\"movie_name\":movie_name,\n",
    "             \"release_year\":release_year,\n",
    "             \"duration\":duration_of_movie,\n",
    "             \"Rating\":rating})"
   ]
  },
  {
   "cell_type": "markdown",
   "metadata": {},
   "source": [
    "### Data Preprocessing"
   ]
  },
  {
   "cell_type": "code",
   "execution_count": 19,
   "metadata": {},
   "outputs": [
    {
     "data": {
      "text/html": [
       "<div>\n",
       "<style scoped>\n",
       "    .dataframe tbody tr th:only-of-type {\n",
       "        vertical-align: middle;\n",
       "    }\n",
       "\n",
       "    .dataframe tbody tr th {\n",
       "        vertical-align: top;\n",
       "    }\n",
       "\n",
       "    .dataframe thead th {\n",
       "        text-align: right;\n",
       "    }\n",
       "</style>\n",
       "<table border=\"1\" class=\"dataframe\">\n",
       "  <thead>\n",
       "    <tr style=\"text-align: right;\">\n",
       "      <th></th>\n",
       "      <th>movie_name</th>\n",
       "      <th>release_year</th>\n",
       "      <th>duration</th>\n",
       "      <th>Rating</th>\n",
       "    </tr>\n",
       "  </thead>\n",
       "  <tbody>\n",
       "    <tr>\n",
       "      <th>0</th>\n",
       "      <td>1. The Shawshank Redemption</td>\n",
       "      <td>1994</td>\n",
       "      <td>2h 22m</td>\n",
       "      <td>9.3 (2.8M)</td>\n",
       "    </tr>\n",
       "    <tr>\n",
       "      <th>1</th>\n",
       "      <td>2. The Godfather</td>\n",
       "      <td>1972</td>\n",
       "      <td>2h 55m</td>\n",
       "      <td>9.2 (2M)</td>\n",
       "    </tr>\n",
       "    <tr>\n",
       "      <th>2</th>\n",
       "      <td>3. The Dark Knight</td>\n",
       "      <td>2008</td>\n",
       "      <td>2h 32m</td>\n",
       "      <td>9.0 (2.8M)</td>\n",
       "    </tr>\n",
       "    <tr>\n",
       "      <th>3</th>\n",
       "      <td>4. The Godfather: Part II</td>\n",
       "      <td>1974</td>\n",
       "      <td>3h 22m</td>\n",
       "      <td>9.0 (1.3M)</td>\n",
       "    </tr>\n",
       "    <tr>\n",
       "      <th>4</th>\n",
       "      <td>5. 12 Angry Men</td>\n",
       "      <td>1957</td>\n",
       "      <td>1h 36m</td>\n",
       "      <td>9.0 (835K)</td>\n",
       "    </tr>\n",
       "  </tbody>\n",
       "</table>\n",
       "</div>"
      ],
      "text/plain": [
       "                    movie_name release_year duration      Rating\n",
       "0  1. The Shawshank Redemption         1994   2h 22m  9.3 (2.8M)\n",
       "1             2. The Godfather         1972   2h 55m    9.2 (2M)\n",
       "2           3. The Dark Knight         2008   2h 32m  9.0 (2.8M)\n",
       "3    4. The Godfather: Part II         1974   3h 22m  9.0 (1.3M)\n",
       "4              5. 12 Angry Men         1957   1h 36m  9.0 (835K)"
      ]
     },
     "execution_count": 19,
     "metadata": {},
     "output_type": "execute_result"
    }
   ],
   "source": [
    "df.head()"
   ]
  },
  {
   "cell_type": "code",
   "execution_count": 20,
   "metadata": {},
   "outputs": [
    {
     "data": {
      "text/plain": [
       "0      The Shawshank Redemption\n",
       "1                 The Godfather\n",
       "2               The Dark Knight\n",
       "3        The Godfather: Part II\n",
       "4                  12 Angry Men\n",
       "                 ...           \n",
       "245               The 400 Blows\n",
       "246                     Persona\n",
       "247               Life of Brian\n",
       "248                     Aladdin\n",
       "249                    Drishyam\n",
       "Name: movie_name, Length: 250, dtype: object"
      ]
     },
     "execution_count": 20,
     "metadata": {},
     "output_type": "execute_result"
    }
   ],
   "source": [
    "# Split the \"movie_name\" column by periods and keep the second part (index 1)\n",
    "# Then, remove any leading or trailing whitespace\n",
    "df[\"movie_name\"].str.split(\".\").str[1].str.strip()"
   ]
  },
  {
   "cell_type": "code",
   "execution_count": 21,
   "metadata": {},
   "outputs": [],
   "source": [
    "# Assigned it to dataframe\n",
    "df[\"movie_name\"] = df[\"movie_name\"].str.split(\".\").str[1].str.strip()"
   ]
  },
  {
   "cell_type": "code",
   "execution_count": 22,
   "metadata": {},
   "outputs": [
    {
     "data": {
      "text/html": [
       "<div>\n",
       "<style scoped>\n",
       "    .dataframe tbody tr th:only-of-type {\n",
       "        vertical-align: middle;\n",
       "    }\n",
       "\n",
       "    .dataframe tbody tr th {\n",
       "        vertical-align: top;\n",
       "    }\n",
       "\n",
       "    .dataframe thead th {\n",
       "        text-align: right;\n",
       "    }\n",
       "</style>\n",
       "<table border=\"1\" class=\"dataframe\">\n",
       "  <thead>\n",
       "    <tr style=\"text-align: right;\">\n",
       "      <th></th>\n",
       "      <th>movie_name</th>\n",
       "      <th>release_year</th>\n",
       "      <th>duration</th>\n",
       "      <th>Rating</th>\n",
       "    </tr>\n",
       "  </thead>\n",
       "  <tbody>\n",
       "    <tr>\n",
       "      <th>0</th>\n",
       "      <td>The Shawshank Redemption</td>\n",
       "      <td>1994</td>\n",
       "      <td>2h 22m</td>\n",
       "      <td>9.3 (2.8M)</td>\n",
       "    </tr>\n",
       "    <tr>\n",
       "      <th>1</th>\n",
       "      <td>The Godfather</td>\n",
       "      <td>1972</td>\n",
       "      <td>2h 55m</td>\n",
       "      <td>9.2 (2M)</td>\n",
       "    </tr>\n",
       "    <tr>\n",
       "      <th>2</th>\n",
       "      <td>The Dark Knight</td>\n",
       "      <td>2008</td>\n",
       "      <td>2h 32m</td>\n",
       "      <td>9.0 (2.8M)</td>\n",
       "    </tr>\n",
       "    <tr>\n",
       "      <th>3</th>\n",
       "      <td>The Godfather: Part II</td>\n",
       "      <td>1974</td>\n",
       "      <td>3h 22m</td>\n",
       "      <td>9.0 (1.3M)</td>\n",
       "    </tr>\n",
       "    <tr>\n",
       "      <th>4</th>\n",
       "      <td>12 Angry Men</td>\n",
       "      <td>1957</td>\n",
       "      <td>1h 36m</td>\n",
       "      <td>9.0 (835K)</td>\n",
       "    </tr>\n",
       "  </tbody>\n",
       "</table>\n",
       "</div>"
      ],
      "text/plain": [
       "                 movie_name release_year duration      Rating\n",
       "0  The Shawshank Redemption         1994   2h 22m  9.3 (2.8M)\n",
       "1             The Godfather         1972   2h 55m    9.2 (2M)\n",
       "2           The Dark Knight         2008   2h 32m  9.0 (2.8M)\n",
       "3    The Godfather: Part II         1974   3h 22m  9.0 (1.3M)\n",
       "4              12 Angry Men         1957   1h 36m  9.0 (835K)"
      ]
     },
     "execution_count": 22,
     "metadata": {},
     "output_type": "execute_result"
    }
   ],
   "source": [
    "df.head()"
   ]
  },
  {
   "cell_type": "code",
   "execution_count": 23,
   "metadata": {},
   "outputs": [
    {
     "data": {
      "text/plain": [
       "0      9.3\n",
       "1      9.2\n",
       "2      9.0\n",
       "3      9.0\n",
       "4      9.0\n",
       "      ... \n",
       "245    8.1\n",
       "246    8.1\n",
       "247    8.0\n",
       "248    8.0\n",
       "249    8.2\n",
       "Name: Rating, Length: 250, dtype: object"
      ]
     },
     "execution_count": 23,
     "metadata": {},
     "output_type": "execute_result"
    }
   ],
   "source": [
    "# Split the \"Rating\" column by \"(\" and keep the part before the opening parenthesis (index 0)\n",
    "# Then, remove any leading or trailing whitespace, and update the \"Rating\" column\n",
    "df[\"Rating\"].str.split(\"(\").str[0].str.strip()"
   ]
  },
  {
   "cell_type": "code",
   "execution_count": 24,
   "metadata": {},
   "outputs": [],
   "source": [
    "# Assigned it to dataframe\n",
    "df[\"rating\"] = df[\"Rating\"].str.split(\"(\").str[0].str.strip()"
   ]
  },
  {
   "cell_type": "code",
   "execution_count": 25,
   "metadata": {},
   "outputs": [
    {
     "data": {
      "text/plain": [
       "0      2.8M\n",
       "1        2M\n",
       "2      2.8M\n",
       "3      1.3M\n",
       "4      835K\n",
       "       ... \n",
       "245    125K\n",
       "246    127K\n",
       "247    415K\n",
       "248    450K\n",
       "249     91K\n",
       "Name: Rating, Length: 250, dtype: object"
      ]
     },
     "execution_count": 25,
     "metadata": {},
     "output_type": "execute_result"
    }
   ],
   "source": [
    "# Split the \"Rating\" column by \"(\" and keep the part after the opening parenthesis (index 1)\n",
    "# Then, replace any \")\" characters with an empty string, and strip any leading or trailing whitespace\n",
    "df[\"Rating\"].str.split(\"(\").str[1].str.replace(\")\",\"\").str.strip()"
   ]
  },
  {
   "cell_type": "code",
   "execution_count": 26,
   "metadata": {},
   "outputs": [],
   "source": [
    "# Assigned it to dataframe\n",
    "df[\"num_of_likes\"] = df[\"Rating\"].str.split(\"(\").str[1].str.replace(\")\",\"\").str.strip()"
   ]
  },
  {
   "cell_type": "code",
   "execution_count": 27,
   "metadata": {},
   "outputs": [
    {
     "data": {
      "text/html": [
       "<div>\n",
       "<style scoped>\n",
       "    .dataframe tbody tr th:only-of-type {\n",
       "        vertical-align: middle;\n",
       "    }\n",
       "\n",
       "    .dataframe tbody tr th {\n",
       "        vertical-align: top;\n",
       "    }\n",
       "\n",
       "    .dataframe thead th {\n",
       "        text-align: right;\n",
       "    }\n",
       "</style>\n",
       "<table border=\"1\" class=\"dataframe\">\n",
       "  <thead>\n",
       "    <tr style=\"text-align: right;\">\n",
       "      <th></th>\n",
       "      <th>movie_name</th>\n",
       "      <th>release_year</th>\n",
       "      <th>duration</th>\n",
       "      <th>Rating</th>\n",
       "      <th>rating</th>\n",
       "      <th>num_of_likes</th>\n",
       "    </tr>\n",
       "  </thead>\n",
       "  <tbody>\n",
       "    <tr>\n",
       "      <th>0</th>\n",
       "      <td>The Shawshank Redemption</td>\n",
       "      <td>1994</td>\n",
       "      <td>2h 22m</td>\n",
       "      <td>9.3 (2.8M)</td>\n",
       "      <td>9.3</td>\n",
       "      <td>2.8M</td>\n",
       "    </tr>\n",
       "    <tr>\n",
       "      <th>1</th>\n",
       "      <td>The Godfather</td>\n",
       "      <td>1972</td>\n",
       "      <td>2h 55m</td>\n",
       "      <td>9.2 (2M)</td>\n",
       "      <td>9.2</td>\n",
       "      <td>2M</td>\n",
       "    </tr>\n",
       "    <tr>\n",
       "      <th>2</th>\n",
       "      <td>The Dark Knight</td>\n",
       "      <td>2008</td>\n",
       "      <td>2h 32m</td>\n",
       "      <td>9.0 (2.8M)</td>\n",
       "      <td>9.0</td>\n",
       "      <td>2.8M</td>\n",
       "    </tr>\n",
       "    <tr>\n",
       "      <th>3</th>\n",
       "      <td>The Godfather: Part II</td>\n",
       "      <td>1974</td>\n",
       "      <td>3h 22m</td>\n",
       "      <td>9.0 (1.3M)</td>\n",
       "      <td>9.0</td>\n",
       "      <td>1.3M</td>\n",
       "    </tr>\n",
       "    <tr>\n",
       "      <th>4</th>\n",
       "      <td>12 Angry Men</td>\n",
       "      <td>1957</td>\n",
       "      <td>1h 36m</td>\n",
       "      <td>9.0 (835K)</td>\n",
       "      <td>9.0</td>\n",
       "      <td>835K</td>\n",
       "    </tr>\n",
       "  </tbody>\n",
       "</table>\n",
       "</div>"
      ],
      "text/plain": [
       "                 movie_name release_year duration      Rating rating  \\\n",
       "0  The Shawshank Redemption         1994   2h 22m  9.3 (2.8M)    9.3   \n",
       "1             The Godfather         1972   2h 55m    9.2 (2M)    9.2   \n",
       "2           The Dark Knight         2008   2h 32m  9.0 (2.8M)    9.0   \n",
       "3    The Godfather: Part II         1974   3h 22m  9.0 (1.3M)    9.0   \n",
       "4              12 Angry Men         1957   1h 36m  9.0 (835K)    9.0   \n",
       "\n",
       "  num_of_likes  \n",
       "0         2.8M  \n",
       "1           2M  \n",
       "2         2.8M  \n",
       "3         1.3M  \n",
       "4         835K  "
      ]
     },
     "execution_count": 27,
     "metadata": {},
     "output_type": "execute_result"
    }
   ],
   "source": [
    "df.head()"
   ]
  },
  {
   "cell_type": "code",
   "execution_count": 28,
   "metadata": {},
   "outputs": [],
   "source": [
    "# Remove the \"Rating\" column from the DataFrame 'df'\n",
    "df.drop(\"Rating\",axis=1,inplace=True)"
   ]
  },
  {
   "cell_type": "code",
   "execution_count": 29,
   "metadata": {},
   "outputs": [
    {
     "data": {
      "text/html": [
       "<div>\n",
       "<style scoped>\n",
       "    .dataframe tbody tr th:only-of-type {\n",
       "        vertical-align: middle;\n",
       "    }\n",
       "\n",
       "    .dataframe tbody tr th {\n",
       "        vertical-align: top;\n",
       "    }\n",
       "\n",
       "    .dataframe thead th {\n",
       "        text-align: right;\n",
       "    }\n",
       "</style>\n",
       "<table border=\"1\" class=\"dataframe\">\n",
       "  <thead>\n",
       "    <tr style=\"text-align: right;\">\n",
       "      <th></th>\n",
       "      <th>movie_name</th>\n",
       "      <th>release_year</th>\n",
       "      <th>duration</th>\n",
       "      <th>rating</th>\n",
       "      <th>num_of_likes</th>\n",
       "    </tr>\n",
       "  </thead>\n",
       "  <tbody>\n",
       "    <tr>\n",
       "      <th>0</th>\n",
       "      <td>The Shawshank Redemption</td>\n",
       "      <td>1994</td>\n",
       "      <td>2h 22m</td>\n",
       "      <td>9.3</td>\n",
       "      <td>2.8M</td>\n",
       "    </tr>\n",
       "    <tr>\n",
       "      <th>1</th>\n",
       "      <td>The Godfather</td>\n",
       "      <td>1972</td>\n",
       "      <td>2h 55m</td>\n",
       "      <td>9.2</td>\n",
       "      <td>2M</td>\n",
       "    </tr>\n",
       "    <tr>\n",
       "      <th>2</th>\n",
       "      <td>The Dark Knight</td>\n",
       "      <td>2008</td>\n",
       "      <td>2h 32m</td>\n",
       "      <td>9.0</td>\n",
       "      <td>2.8M</td>\n",
       "    </tr>\n",
       "    <tr>\n",
       "      <th>3</th>\n",
       "      <td>The Godfather: Part II</td>\n",
       "      <td>1974</td>\n",
       "      <td>3h 22m</td>\n",
       "      <td>9.0</td>\n",
       "      <td>1.3M</td>\n",
       "    </tr>\n",
       "    <tr>\n",
       "      <th>4</th>\n",
       "      <td>12 Angry Men</td>\n",
       "      <td>1957</td>\n",
       "      <td>1h 36m</td>\n",
       "      <td>9.0</td>\n",
       "      <td>835K</td>\n",
       "    </tr>\n",
       "  </tbody>\n",
       "</table>\n",
       "</div>"
      ],
      "text/plain": [
       "                 movie_name release_year duration rating num_of_likes\n",
       "0  The Shawshank Redemption         1994   2h 22m    9.3         2.8M\n",
       "1             The Godfather         1972   2h 55m    9.2           2M\n",
       "2           The Dark Knight         2008   2h 32m    9.0         2.8M\n",
       "3    The Godfather: Part II         1974   3h 22m    9.0         1.3M\n",
       "4              12 Angry Men         1957   1h 36m    9.0         835K"
      ]
     },
     "execution_count": 29,
     "metadata": {},
     "output_type": "execute_result"
    }
   ],
   "source": [
    "df.head()"
   ]
  },
  {
   "cell_type": "code",
   "execution_count": 30,
   "metadata": {},
   "outputs": [],
   "source": [
    "# Save the DataFrame 'df' as a CSV file named \"movies.csv\" without including the index\n",
    "df.to_csv(\"movies.csv\",index=False)"
   ]
  },
  {
   "cell_type": "code",
   "execution_count": 31,
   "metadata": {},
   "outputs": [],
   "source": [
    "# Save the DataFrame 'df' as an Excel file named \"movies.xlsx\" without including the index\n",
    "df.to_excel(\"movies.xlsx\",index=False)"
   ]
  },
  {
   "cell_type": "code",
   "execution_count": null,
   "metadata": {},
   "outputs": [],
   "source": []
  }
 ],
 "metadata": {
  "kernelspec": {
   "display_name": "Python 3",
   "language": "python",
   "name": "python3"
  },
  "language_info": {
   "codemirror_mode": {
    "name": "ipython",
    "version": 3
   },
   "file_extension": ".py",
   "mimetype": "text/x-python",
   "name": "python",
   "nbconvert_exporter": "python",
   "pygments_lexer": "ipython3",
   "version": "3.8.5"
  }
 },
 "nbformat": 4,
 "nbformat_minor": 4
}
